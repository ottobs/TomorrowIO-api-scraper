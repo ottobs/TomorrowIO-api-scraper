{
 "cells": [
  {
   "cell_type": "markdown",
   "metadata": {},
   "source": [
    "# This notebook connects into our instace of PostgreSQL running on a container, in order to answer the following questions, using Python:\n",
    "* What's the latest temperature for all of the geo locations? What's the latest wind speed? \n",
    "\n",
    "* Show an hourly time series of temperature (or any other available weather variable) from a day ago to 5 days in the future for a selected location\n",
    "\n",
    "First step is retrieving configs for the connection:"
   ]
  },
  {
   "cell_type": "code",
   "execution_count": null,
   "metadata": {},
   "outputs": [],
   "source": [
    "import psycopg2\n",
    "from datetime import datetime, timedelta\n",
    "import pandas as pd\n",
    "import matplotlib\n",
    "import configparser\n",
    "\n",
    "def load_config(file_path: str) -> dict:\n",
    "    \"\"\"\n",
    "    Load configuration from file.\n",
    "    \"\"\"\n",
    "    config = configparser.ConfigParser()\n",
    "    config.read(file_path)\n",
    "    return config._sections\n",
    "\n",
    "file_config = load_config('notebook.config')\n",
    "\n",
    "postgres_user = file_config['Postgresql']['postgres_user']\n",
    "postgres_password = file_config['Postgresql']['postgres_password']\n",
    "postgres_database = file_config['Postgresql']['postgres_db']\n",
    "\n",
    "\n",
    "# PostgreSQL connection parameters\n",
    "connection_params = {\n",
    "    \"host\": \"localhost\",\n",
    "    \"port\": \"5432\",\n",
    "    \"database\": postgres_database,\n",
    "    \"user\": postgres_user,\n",
    "    \"password\": postgres_password\n",
    "}"
   ]
  },
  {
   "cell_type": "markdown",
   "metadata": {},
   "source": [
    "We define the functions that query our PostgreSQL database"
   ]
  },
  {
   "cell_type": "code",
   "execution_count": 59,
   "metadata": {},
   "outputs": [],
   "source": [
    "\n",
    "def get_latest_weather_data():\n",
    "    \"\"\"Retrieve the latest weather data for all geo locations.\"\"\"\n",
    "    try:\n",
    "        connection = psycopg2.connect(**connection_params)\n",
    "\n",
    "        query = \"\"\"\n",
    "        WITH latest_prediction AS (\n",
    "            SELECT \n",
    "                lat,\n",
    "                lon,\n",
    "                max(predictiontime) as latest_prediction_time\n",
    "            FROM\n",
    "                tomorrowio.forecasts\n",
    "            GROUP BY\n",
    "                lat,\n",
    "                lon\n",
    "        )\n",
    "        SELECT \n",
    "            lat, \n",
    "            lon, \n",
    "            predictiontime, \n",
    "            temperature, \n",
    "            windspeed\n",
    "        FROM tomorrowio.forecasts \n",
    "        WHERE predictiontime in (select latest_prediction_time from latest_prediction)\n",
    "        \"\"\"\n",
    "        \n",
    "        with connection.cursor() as cursor:\n",
    "            cursor.execute(query)\n",
    "            latest_data = cursor.fetchall()\n",
    "        df_latest_data = pd.DataFrame(latest_data, columns=[\"lat\", \"lon\", \"predictiontime\", \"temperature\", \"windspeed\"])\n",
    "        return df_latest_data\n",
    "\n",
    "    except (Exception, psycopg2.Error) as error:\n",
    "        print(f\"Error retrieving latest weather data: {error}\")\n",
    "    finally:\n",
    "        if connection:\n",
    "            connection.close()\n"
   ]
  },
  {
   "cell_type": "code",
   "execution_count": 61,
   "metadata": {},
   "outputs": [],
   "source": [
    "def get_hourly_time_series(lat, lon, variable):\n",
    "    \"\"\"Retrieve hourly time series data for a selected location and weather variable.\"\"\"\n",
    "    now = datetime.now().date().strftime(\"%Y-%m-%d %H:%M:%S\")\n",
    "    yesterday = (datetime.now().date()+timedelta(days=-1)).strftime(\"%Y-%m-%d %H:%M:%S\")\n",
    "    five_days_in_the_future = (datetime.now()+timedelta(days=5)).strftime(\"%Y-%m-%d %H:%M:%S\")\n",
    "    try:\n",
    "        # Connect to the PostgreSQL database\n",
    "        connection = psycopg2.connect(**connection_params)\n",
    "\n",
    "        # Define the SQL query\n",
    "        query = f\"\"\"\n",
    "        SELECT predictiontime, {variable}\n",
    "        FROM tomorrowio.forecasts\n",
    "        WHERE lat = '{lat}' AND lon = '{lon}' AND predictiontime >= '{now}' AND predictiontime <= '{five_days_in_the_future}'\n",
    "        UNION\n",
    "        SELECT historicaltime as predictiontime, {variable}\n",
    "        FROM tomorrowio.recent_weather_history\n",
    "        WHERE lat = '{lat}' AND lon = '{lon}' AND historicaltime >= '{yesterday}'\n",
    "\n",
    "        ORDER BY predictiontime ASC\n",
    "        \"\"\"\n",
    "\n",
    "        # Execute the query and fetch the results\n",
    "        with connection.cursor() as cursor:\n",
    "            cursor.execute(query)\n",
    "            time_series_data = cursor.fetchall()\n",
    "        df_time_series = pd.DataFrame(time_series_data, columns=[\"predictiontime\", variable])\n",
    "        return df_time_series\n",
    "\n",
    "    except (Exception, psycopg2.Error) as error:\n",
    "        print(f\"Error retrieving hourly time series data: {error}\")\n",
    "    finally:\n",
    "        # Close the database connection\n",
    "        if connection:\n",
    "            connection.close()"
   ]
  },
  {
   "cell_type": "code",
   "execution_count": null,
   "metadata": {},
   "outputs": [],
   "source": [
    "get_latest_weather_data()"
   ]
  },
  {
   "cell_type": "code",
   "execution_count": 62,
   "metadata": {},
   "outputs": [
    {
     "data": {
      "text/html": [
       "<div>\n",
       "<style scoped>\n",
       "    .dataframe tbody tr th:only-of-type {\n",
       "        vertical-align: middle;\n",
       "    }\n",
       "\n",
       "    .dataframe tbody tr th {\n",
       "        vertical-align: top;\n",
       "    }\n",
       "\n",
       "    .dataframe thead th {\n",
       "        text-align: right;\n",
       "    }\n",
       "</style>\n",
       "<table border=\"1\" class=\"dataframe\">\n",
       "  <thead>\n",
       "    <tr style=\"text-align: right;\">\n",
       "      <th></th>\n",
       "      <th>predictiontime</th>\n",
       "      <th>temperature</th>\n",
       "    </tr>\n",
       "  </thead>\n",
       "  <tbody>\n",
       "    <tr>\n",
       "      <th>0</th>\n",
       "      <td>2024-04-06 14:00:00</td>\n",
       "      <td>23.69</td>\n",
       "    </tr>\n",
       "    <tr>\n",
       "      <th>1</th>\n",
       "      <td>2024-04-06 15:00:00</td>\n",
       "      <td>25.00</td>\n",
       "    </tr>\n",
       "    <tr>\n",
       "      <th>2</th>\n",
       "      <td>2024-04-06 16:00:00</td>\n",
       "      <td>25.88</td>\n",
       "    </tr>\n",
       "    <tr>\n",
       "      <th>3</th>\n",
       "      <td>2024-04-06 17:00:00</td>\n",
       "      <td>26.69</td>\n",
       "    </tr>\n",
       "    <tr>\n",
       "      <th>4</th>\n",
       "      <td>2024-04-06 18:00:00</td>\n",
       "      <td>27.38</td>\n",
       "    </tr>\n",
       "    <tr>\n",
       "      <th>...</th>\n",
       "      <td>...</td>\n",
       "      <td>...</td>\n",
       "    </tr>\n",
       "    <tr>\n",
       "      <th>95</th>\n",
       "      <td>2024-04-10 13:00:00</td>\n",
       "      <td>23.67</td>\n",
       "    </tr>\n",
       "    <tr>\n",
       "      <th>96</th>\n",
       "      <td>2024-04-10 14:00:00</td>\n",
       "      <td>24.25</td>\n",
       "    </tr>\n",
       "    <tr>\n",
       "      <th>97</th>\n",
       "      <td>2024-04-10 15:00:00</td>\n",
       "      <td>26.01</td>\n",
       "    </tr>\n",
       "    <tr>\n",
       "      <th>98</th>\n",
       "      <td>2024-04-10 16:00:00</td>\n",
       "      <td>28.10</td>\n",
       "    </tr>\n",
       "    <tr>\n",
       "      <th>99</th>\n",
       "      <td>2024-04-10 17:00:00</td>\n",
       "      <td>29.32</td>\n",
       "    </tr>\n",
       "  </tbody>\n",
       "</table>\n",
       "<p>100 rows × 2 columns</p>\n",
       "</div>"
      ],
      "text/plain": [
       "        predictiontime  temperature\n",
       "0  2024-04-06 14:00:00        23.69\n",
       "1  2024-04-06 15:00:00        25.00\n",
       "2  2024-04-06 16:00:00        25.88\n",
       "3  2024-04-06 17:00:00        26.69\n",
       "4  2024-04-06 18:00:00        27.38\n",
       "..                 ...          ...\n",
       "95 2024-04-10 13:00:00        23.67\n",
       "96 2024-04-10 14:00:00        24.25\n",
       "97 2024-04-10 15:00:00        26.01\n",
       "98 2024-04-10 16:00:00        28.10\n",
       "99 2024-04-10 17:00:00        29.32\n",
       "\n",
       "[100 rows x 2 columns]"
      ]
     },
     "execution_count": 62,
     "metadata": {},
     "output_type": "execute_result"
    }
   ],
   "source": [
    "df_time_series = get_hourly_time_series('25.86','-97.42','temperature')\n",
    "df_time_series"
   ]
  },
  {
   "cell_type": "code",
   "execution_count": 63,
   "metadata": {},
   "outputs": [
    {
     "data": {
      "text/plain": [
       "<Axes: xlabel='predictiontime'>"
      ]
     },
     "execution_count": 63,
     "metadata": {},
     "output_type": "execute_result"
    },
    {
     "data": {
      "image/png": "[encoded data removed]",
      "text/plain": [
       "<Figure size 640x480 with 1 Axes>"
      ]
     },
     "metadata": {},
     "output_type": "display_data"
    }
   ],
   "source": [
    "df_time_series.plot(x='predictiontime',y='temperature')"
   ]
  },
  {
   "cell_type": "code",
   "execution_count": null,
   "metadata": {},
   "outputs": [],
   "source": []
  }
 ],
 "metadata": {
  "kernelspec": {
   "display_name": "Python 3",
   "language": "python",
   "name": "python3"
  },
  "language_info": {
   "codemirror_mode": {
    "name": "ipython",
    "version": 3
   },
   "file_extension": ".py",
   "mimetype": "text/x-python",
   "name": "python",
   "nbconvert_exporter": "python",
   "pygments_lexer": "ipython3",
   "version": "3.10.11"
  }
 },
 "nbformat": 4,
 "nbformat_minor": 2
}
